{
 "cells": [
  {
   "attachments": {},
   "cell_type": "markdown",
   "metadata": {},
   "source": [
    "## Data Ingestion stage"
   ]
  },
  {
   "cell_type": "code",
   "execution_count": 164,
   "metadata": {},
   "outputs": [],
   "source": [
    "from collections import namedtuple\n",
    "import os"
   ]
  },
  {
   "cell_type": "code",
   "execution_count": 165,
   "metadata": {},
   "outputs": [
    {
     "name": "stdout",
     "output_type": "stream",
     "text": [
      "[WinError 2] The system cannot find the file specified: 'Dog-Cat-Classifier/'\n",
      "c:\\Projects\\Dog-Cat-Classifier\n"
     ]
    }
   ],
   "source": [
    "%cd Dog-Cat-Classifier/"
   ]
  },
  {
   "cell_type": "code",
   "execution_count": 166,
   "metadata": {},
   "outputs": [
    {
     "data": {
      "text/plain": [
       "'c:\\\\Projects\\\\Dog-Cat-Classifier'"
      ]
     },
     "execution_count": 166,
     "metadata": {},
     "output_type": "execute_result"
    }
   ],
   "source": [
    "%pwd"
   ]
  },
  {
   "cell_type": "code",
   "execution_count": 167,
   "metadata": {},
   "outputs": [],
   "source": [
    "DataIngestionConfig = namedtuple(\"DataIngestionConfig\", [\n",
    "    \"root_dir\",\n",
    "    \"source_URL\",\n",
    "    \"local_data_file\",\n",
    "    \"unzip_dir\"\n",
    "])"
   ]
  },
  {
   "cell_type": "code",
   "execution_count": 168,
   "metadata": {},
   "outputs": [],
   "source": [
    "from dataclasses import dataclass\n",
    "from pathlib import Path\n",
    "\n",
    "\n",
    "@dataclass(frozen=True)\n",
    "class DataIngestionConfig:\n",
    "    root_dir: Path\n",
    "    source_URL: str\n",
    "    local_data_file: Path\n",
    "    unzip_dir: Path"
   ]
  },
  {
   "cell_type": "code",
   "execution_count": 169,
   "metadata": {},
   "outputs": [],
   "source": [
    "from src.Dog_Cat_Classifier.constants import *\n",
    "from src.Dog_Cat_Classifier.utils import read_yaml, create_directory"
   ]
  },
  {
   "cell_type": "code",
   "execution_count": 170,
   "metadata": {},
   "outputs": [],
   "source": [
    "class ConfigurationManager:\n",
    "    def __init__(\n",
    "        self,\n",
    "        config_filepath = os.path.normpath(str(CONFIG_FILE_PATH)),\n",
    "        params_filepath = os.path.normpath(str(PARAMS_FILE_PATH))):\n",
    "\n",
    "        self.config = read_yaml(config_filepath)\n",
    "        self.params = read_yaml(params_filepath)\n",
    "\n",
    "        create_directory([self.config.artifacts_root])\n",
    "\n",
    "    \n",
    "    def get_data_ingestion_config(self) -> DataIngestionConfig:\n",
    "        config = self.config.data_ingestion\n",
    "\n",
    "        create_directory([config.root_dir])\n",
    "\n",
    "        data_ingestion_config = DataIngestionConfig(\n",
    "            root_dir=config.root_dir,\n",
    "            source_URL=config.source_URL,\n",
    "            local_data_file=config.local_data_file,\n",
    "            unzip_dir=config.unzip_dir \n",
    "        )\n",
    "\n",
    "        return data_ingestion_config\n",
    "      "
   ]
  },
  {
   "cell_type": "code",
   "execution_count": 171,
   "metadata": {},
   "outputs": [],
   "source": [
    "import os\n",
    "import urllib.request as request\n",
    "import requests\n",
    "from zipfile import ZipFile, is_zipfile"
   ]
  },
  {
   "cell_type": "code",
   "execution_count": 172,
   "metadata": {},
   "outputs": [],
   "source": [
    "class DataIngestion:\n",
    "    def __init__(self, config: DataIngestionConfig):\n",
    "        self.config = config\n",
    "\n",
    "    def download_file(self):\n",
    "        try:\n",
    "            # Check if the file already exists\n",
    "            if not os.path.exists(self.config.local_data_file):\n",
    "                print(f\"Downloading file from {self.config.source_URL}...\")\n",
    "\n",
    "                # Check content type before downloading\n",
    "                response = requests.head(self.config.source_URL)\n",
    "                content_type = response.headers.get('Content-Type', '')\n",
    "\n",
    "                # Stream the download to handle large files\n",
    "                with requests.get(self.config.source_URL, stream=True) as response:\n",
    "                    response.raise_for_status()  # Raise an error for a bad status code\n",
    "                    \n",
    "                    # Open the destination file in binary write mode\n",
    "                    with open(self.config.local_data_file, 'wb') as f:\n",
    "                        for chunk in response.iter_content(chunk_size=8192):  # Read in 8KB chunks\n",
    "                            f.write(chunk)\n",
    "\n",
    "                print(f\"File downloaded successfully: {self.config.local_data_file}\")\n",
    "            else:\n",
    "                print(\"File already exists. Skipping download.\")\n",
    "        except requests.exceptions.RequestException as e:\n",
    "            print(f\"Error downloading file: {e}\")\n",
    "            raise\n",
    "\n",
    "    def _get_updated_list_of_files(self, list_of_files):\n",
    "        # Filter the list of files to include only .jpg files that contain 'Cat' or 'Dog' in their names\n",
    "        return [f for f in list_of_files if f.endswith(\".jpg\") and (\"Cat\" in f or \"Dog\" in f)]\n",
    "    \n",
    "    def _preprocess(self, zf: ZipFile, f: str, working_dir: str):\n",
    "        # Define the target file path\n",
    "        target_filepath = os.path.join(working_dir, f)\n",
    "        \n",
    "        # Extract the file if it does not already exist\n",
    "        if not os.path.exists(target_filepath):\n",
    "            zf.extract(f, working_dir)\n",
    "        \n",
    "        # Remove the file if it is empty\n",
    "        if os.path.getsize(target_filepath) == 0:\n",
    "            os.remove(target_filepath)\n",
    "\n",
    "    def unzip_and_clean(self):\n",
    "        # Check if the local data file is a valid ZIP file\n",
    "        if not is_zipfile(self.config.local_data_file):\n",
    "            raise ValueError(f\"The file {self.config.local_data_file} is not a valid ZIP file.\")\n",
    "        \n",
    "        # Open the ZIP file and process its contents\n",
    "        with ZipFile(file=self.config.local_data_file, mode=\"r\") as zf:\n",
    "            list_of_files = zf.namelist()\n",
    "            updated_list_of_files = self._get_updated_list_of_files(list_of_files)\n",
    "            for f in updated_list_of_files:\n",
    "                self._preprocess(zf, f, self.config.unzip_dir)"
   ]
  },
  {
   "cell_type": "code",
   "execution_count": 173,
   "metadata": {},
   "outputs": [
    {
     "name": "stdout",
     "output_type": "stream",
     "text": [
      "[2024-12-31 18:23:51,059 - INFO - Read the yaml file: config\\config.yaml]\n",
      "[2024-12-31 18:23:51,060 - INFO - Read the yaml file: params.yaml]\n",
      "[2024-12-31 18:23:51,061 - INFO - Created directory: artifacts]\n",
      "[2024-12-31 18:23:51,062 - INFO - Created directory: artifacts/data_ingestion]\n",
      "Downloading file from https://github.com/saurav-sabu/project-dataset/raw/refs/heads/main/cat-dog-data.zip...\n",
      "File downloaded successfully: artifacts/data_ingestion/data.zip\n"
     ]
    }
   ],
   "source": [
    "try:\n",
    "    # Initialize the ConfigurationManager\n",
    "    config = ConfigurationManager()\n",
    "    \n",
    "    # Get the data ingestion configuration\n",
    "    data_ingestion_config = config.get_data_ingestion_config()\n",
    "    \n",
    "    # Initialize the DataIngestion class with the configuration\n",
    "    data_ingestion = DataIngestion(config=data_ingestion_config)\n",
    "    \n",
    "    # Download the data file\n",
    "    data_ingestion.download_file()\n",
    "    \n",
    "    # Unzip and clean the downloaded data file\n",
    "    data_ingestion.unzip_and_clean()\n",
    "except Exception as e:\n",
    "    # Raise any exceptions that occur\n",
    "    raise e"
   ]
  },
  {
   "cell_type": "code",
   "execution_count": null,
   "metadata": {},
   "outputs": [],
   "source": []
  }
 ],
 "metadata": {
  "kernelspec": {
   "display_name": "Python 3",
   "language": "python",
   "name": "python3"
  },
  "language_info": {
   "codemirror_mode": {
    "name": "ipython",
    "version": 3
   },
   "file_extension": ".py",
   "mimetype": "text/x-python",
   "name": "python",
   "nbconvert_exporter": "python",
   "pygments_lexer": "ipython3",
   "version": "3.8.20"
  },
  "orig_nbformat": 4
 },
 "nbformat": 4,
 "nbformat_minor": 2
}
